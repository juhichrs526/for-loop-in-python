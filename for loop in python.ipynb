{
 "cells": [
  {
   "cell_type": "code",
   "execution_count": 1,
   "id": "61065b94",
   "metadata": {},
   "outputs": [
    {
     "name": "stdout",
     "output_type": "stream",
     "text": [
      "juhi\n",
      "swati\n",
      "neha\n",
      "pratishtha\n"
     ]
    }
   ],
   "source": [
    "list1=[\"juhi\",\"swati\",\"neha\",\"pratishtha\"]\n",
    "for item in list1:\n",
    "    print(item)"
   ]
  },
  {
   "cell_type": "code",
   "execution_count": 2,
   "id": "5bb242e3",
   "metadata": {},
   "outputs": [
    {
     "name": "stdout",
     "output_type": "stream",
     "text": [
      "['juhi', 2]\n",
      "['swati', 5]\n",
      "['neha', 9]\n",
      "['pratishtha', 21]\n"
     ]
    }
   ],
   "source": [
    "list1=[[\"juhi\",2],[\"swati\",5],[\"neha\",9],[\"pratishtha\",21]]\n",
    "for item in list1:\n",
    "    print(item)"
   ]
  },
  {
   "cell_type": "code",
   "execution_count": 4,
   "id": "8af5f6a1",
   "metadata": {},
   "outputs": [
    {
     "name": "stdout",
     "output_type": "stream",
     "text": [
      "juhi 2\n",
      "swati 5\n",
      "neha 9\n",
      "pratishtha 21\n"
     ]
    }
   ],
   "source": [
    "list1=[[\"juhi\",2],[\"swati\",5],[\"neha\",9],[\"pratishtha\",21]]\n",
    "for item ,keys in list1:\n",
    "    print(item,keys)"
   ]
  },
  {
   "cell_type": "code",
   "execution_count": 5,
   "id": "d00f90f9",
   "metadata": {},
   "outputs": [
    {
     "name": "stdout",
     "output_type": "stream",
     "text": [
      "{'juhi': 2, 'swati': 5, 'neha': 9, 'pratishtha': 21}\n"
     ]
    }
   ],
   "source": [
    "list1=[[\"juhi\",2],[\"swati\",5],[\"neha\",9],[\"pratishtha\",21]]\n",
    "dict1=dict(list1)\n",
    "print(dict1)\n"
   ]
  },
  {
   "cell_type": "code",
   "execution_count": 8,
   "id": "41f9b700",
   "metadata": {},
   "outputs": [
    {
     "name": "stdout",
     "output_type": "stream",
     "text": [
      "{'juhi': 2, 'swati': 5, 'neha': 9, 'pratishtha': 21}\n",
      "juhi 2\n",
      "swati 5\n",
      "neha 9\n",
      "pratishtha 21\n"
     ]
    }
   ],
   "source": [
    "list1=[[\"juhi\",2],[\"swati\",5],[\"neha\",9],[\"pratishtha\",21]]\n",
    "dict1=dict(list1)\n",
    "print(dict1)\n",
    "for item,keys in dict1.items():\n",
    "    print(item,keys)"
   ]
  },
  {
   "cell_type": "code",
   "execution_count": 9,
   "id": "74596623",
   "metadata": {},
   "outputs": [
    {
     "name": "stdout",
     "output_type": "stream",
     "text": [
      "{'juhi': 2, 'swati': 5, 'neha': 9, 'pratishtha': 21}\n",
      "juhi\n",
      "swati\n",
      "neha\n",
      "pratishtha\n"
     ]
    }
   ],
   "source": [
    "list1=[[\"juhi\",2],[\"swati\",5],[\"neha\",9],[\"pratishtha\",21]]\n",
    "dict1=dict(list1)\n",
    "print(dict1)\n",
    "for item in dict1:\n",
    "    print(item)"
   ]
  },
  {
   "cell_type": "code",
   "execution_count": 11,
   "id": "e24f810a",
   "metadata": {},
   "outputs": [
    {
     "name": "stdout",
     "output_type": "stream",
     "text": [
      "8\n",
      "9\n",
      "52\n",
      "7\n",
      "56\n"
     ]
    }
   ],
   "source": [
    "find the  \n",
    "list=[int,bool,float,str,4,8,9,2,3,52,5,7,1,3,56]\n",
    "for item in list:\n",
    "    if str(item).isnumeric() and item>6:\n",
    "        print(item)\n",
    " "
   ]
  },
  {
   "cell_type": "code",
   "execution_count": null,
   "id": "5c71d459",
   "metadata": {},
   "outputs": [],
   "source": []
  }
 ],
 "metadata": {
  "kernelspec": {
   "display_name": "Python 3",
   "language": "python",
   "name": "python3"
  },
  "language_info": {
   "codemirror_mode": {
    "name": "ipython",
    "version": 3
   },
   "file_extension": ".py",
   "mimetype": "text/x-python",
   "name": "python",
   "nbconvert_exporter": "python",
   "pygments_lexer": "ipython3",
   "version": "3.8.8"
  }
 },
 "nbformat": 4,
 "nbformat_minor": 5
}
